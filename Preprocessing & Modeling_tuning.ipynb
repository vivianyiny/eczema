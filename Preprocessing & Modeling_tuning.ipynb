{
 "cells": [
  {
   "cell_type": "code",
   "execution_count": 1,
   "metadata": {},
   "outputs": [],
   "source": [
    "#!pip install plotly"
   ]
  },
  {
   "cell_type": "code",
   "execution_count": 2,
   "metadata": {},
   "outputs": [
    {
     "data": {
      "text/html": [
       "<style>.container { width:95% !important; }</style>"
      ],
      "text/plain": [
       "<IPython.core.display.HTML object>"
      ]
     },
     "metadata": {},
     "output_type": "display_data"
    }
   ],
   "source": [
    "# Standard Imports\n",
    "import nltk\n",
    "import pandas                        as pd\n",
    "import numpy                         as np\n",
    "import seaborn                       as sns\n",
    "import matplotlib.pyplot             as plt\n",
    "import re\n",
    "import ftfy\n",
    "from IPython.display                 import display_html\n",
    "from IPython.core.display            import display, HTML\n",
    "\n",
    "# Proprocessing, Modeling, & Evaluation\n",
    "from nltk.corpus                     import stopwords\n",
    "from nltk.stem                       import WordNetLemmatizer\n",
    "from nltk.tokenize                   import RegexpTokenizer \n",
    "from sklearn.ensemble                import RandomForestClassifier\n",
    "from sklearn.feature_extraction.text import TfidfVectorizer, CountVectorizer\n",
    "from sklearn.model_selection         import GridSearchCV, train_test_split, cross_val_score\n",
    "from sklearn.metrics                 import accuracy_score, recall_score, roc_auc_score, matthews_corrcoef,roc_curve,precision_score,auc,make_scorer,precision_recall_curve\n",
    "from sklearn.pipeline                import Pipeline\n",
    "from sklearn.svm                     import SVC\n",
    "#from sklearn.tree                    import DecisionTreeClassifier\n",
    "from sklearn                         import model_selection\n",
    "#from xgboost                         import XGBClassifier\n",
    "from sklearn.feature_selection       import chi2,SelectKBest\n",
    "   \n",
    "\n",
    "# Custom Modules\n",
    "import graphs\n",
    "import metrics\n",
    "\n",
    "\n",
    "# Notebook settings & styles\n",
    "sns.set(style = \"white\", palette = \"deep\")\n",
    "display(HTML(\"<style>.container { width:95% !important; }</style>\"))\n",
    "%matplotlib inline"
   ]
  },
  {
   "cell_type": "code",
   "execution_count": 3,
   "metadata": {},
   "outputs": [],
   "source": [
    "Annotated_Sample = pd.read_csv('./Reddit Data/All/Reddit Eczema_All_20201201_Sample_Annotated.csv', encoding = \"iso-8859-1\" )\n"
   ]
  },
  {
   "cell_type": "code",
   "execution_count": 4,
   "metadata": {},
   "outputs": [],
   "source": [
    "# Downloading the default stopwords\n",
    "\n",
    "##nltk.download(\"stopwords\");\n",
    "\n",
    "# Adding our stopwords to the English set\n",
    "\n",
    "##new_stopwords = [\"like\", \"just\", \"make\", \"cook\",\"use\", \"chicken\", \"recipe\", \"sauce\"]\n",
    "\n",
    "stop_words     = stopwords.words('english')\n",
    "\n",
    "##stopwords.extend(new_stopwords)\n",
    "\n",
    "# Instantiating the lemmatizier and tokenizer\n",
    "# The tokenizer will only keep text\n",
    "## nltk.download('wordnet')\n",
    "lemmatizer = WordNetLemmatizer()\n",
    "tokenizer  = RegexpTokenizer(r'\\w+')"
   ]
  },
  {
   "cell_type": "code",
   "execution_count": 5,
   "metadata": {},
   "outputs": [],
   "source": [
    "def cleaning_data(dataframe):\n",
    "   \n",
    "    if 'Annotation' in dataframe :\n",
    "        dataframe[\"label\"] = dataframe[\"Annotation\"].apply(lambda x: 1 if x == \"I\" else 0)\n",
    "    \n",
    "    #Annotated_Sample.drop(columns=['Annotation'],inplace=True)\n",
    "    dataframe.rename(columns={'Author':'author'},inplace=True)\n",
    "    \n",
    "    #lower case\n",
    "    \n",
    "    dataframe[\"body\"] = dataframe[\"body\"].astype(str)\n",
    "    \n",
    "    dataframe[\"body\"] = dataframe[\"body\"].str.lower()\n",
    "    \n",
    "    dataframe [\"body\"] = dataframe [\"body\"].map(ftfy.fix_encoding)\n",
    "    \n",
    "    #remove URL\n",
    "    dataframe[\"body\"] = dataframe[\"body\"].str.replace(\"http\\S+\", \"\")\n",
    "    \n",
    "    #remove none letters\n",
    "    \n",
    "    dataframe[\"body\"] =  dataframe[\"body\"].apply(lambda x: re.sub(r'[^a-z]',' ',str(x)))\n",
    "    \n",
    "    # Setting up the lemmatizer\n",
    "\n",
    "    lemmatized_posts = []\n",
    "\n",
    "    for post in dataframe[\"body\"]:\n",
    "        tokens = tokenizer.tokenize(post)\n",
    "        post   = [lemmatizer.lemmatize(post) for post in tokens]\n",
    "        lemmatized_posts.append(\" \".join(post))\n",
    "\n",
    "    # Appending the lemmatized posts to the dataframe\n",
    "\n",
    "    dataframe[\"lemmatized_text\"] = lemmatized_posts\n",
    "\n",
    "    # Checking the head of the dataframe\n",
    "    #dataframe.head()\n",
    "\n",
    "    return dataframe\n"
   ]
  },
  {
   "cell_type": "code",
   "execution_count": 6,
   "metadata": {},
   "outputs": [
    {
     "data": {
      "text/html": [
       "<div>\n",
       "<style scoped>\n",
       "    .dataframe tbody tr th:only-of-type {\n",
       "        vertical-align: middle;\n",
       "    }\n",
       "\n",
       "    .dataframe tbody tr th {\n",
       "        vertical-align: top;\n",
       "    }\n",
       "\n",
       "    .dataframe thead th {\n",
       "        text-align: right;\n",
       "    }\n",
       "</style>\n",
       "<table border=\"1\" class=\"dataframe\">\n",
       "  <thead>\n",
       "    <tr style=\"text-align: right;\">\n",
       "      <th></th>\n",
       "      <th>author</th>\n",
       "      <th>body</th>\n",
       "      <th>Annotation</th>\n",
       "      <th>label</th>\n",
       "      <th>lemmatized_text</th>\n",
       "    </tr>\n",
       "  </thead>\n",
       "  <tbody>\n",
       "    <tr>\n",
       "      <th>0</th>\n",
       "      <td>touchyfeelies</td>\n",
       "      <td>thanks</td>\n",
       "      <td>I</td>\n",
       "      <td>1</td>\n",
       "      <td>thanks</td>\n",
       "    </tr>\n",
       "    <tr>\n",
       "      <th>1</th>\n",
       "      <td>Replacementheart</td>\n",
       "      <td>oh wow  i m local and i just moved here haha</td>\n",
       "      <td>I</td>\n",
       "      <td>1</td>\n",
       "      <td>oh wow i m local and i just moved here haha</td>\n",
       "    </tr>\n",
       "    <tr>\n",
       "      <th>2</th>\n",
       "      <td>Grumpy_Frenchman</td>\n",
       "      <td>but if you never stop</td>\n",
       "      <td>I</td>\n",
       "      <td>1</td>\n",
       "      <td>but if you never stop</td>\n",
       "    </tr>\n",
       "    <tr>\n",
       "      <th>3</th>\n",
       "      <td>UnhingedMom</td>\n",
       "      <td>google calendar  same place i track the rest o...</td>\n",
       "      <td>I</td>\n",
       "      <td>1</td>\n",
       "      <td>google calendar same place i track the rest of...</td>\n",
       "    </tr>\n",
       "    <tr>\n",
       "      <th>4</th>\n",
       "      <td>princesskailynkitten</td>\n",
       "      <td>wow   very thorough  thank you so much for inc...</td>\n",
       "      <td>I</td>\n",
       "      <td>1</td>\n",
       "      <td>wow very thorough thank you so much for includ...</td>\n",
       "    </tr>\n",
       "  </tbody>\n",
       "</table>\n",
       "</div>"
      ],
      "text/plain": [
       "                 author                                               body  \\\n",
       "0         touchyfeelies                                            thanks    \n",
       "1      Replacementheart       oh wow  i m local and i just moved here haha   \n",
       "2      Grumpy_Frenchman                           but if you never stop      \n",
       "3           UnhingedMom  google calendar  same place i track the rest o...   \n",
       "4  princesskailynkitten  wow   very thorough  thank you so much for inc...   \n",
       "\n",
       "  Annotation  label                                    lemmatized_text  \n",
       "0          I      1                                             thanks  \n",
       "1          I      1        oh wow i m local and i just moved here haha  \n",
       "2          I      1                              but if you never stop  \n",
       "3          I      1  google calendar same place i track the rest of...  \n",
       "4          I      1  wow very thorough thank you so much for includ...  "
      ]
     },
     "execution_count": 6,
     "metadata": {},
     "output_type": "execute_result"
    }
   ],
   "source": [
    "Annotated_Sample = cleaning_data(Annotated_Sample)\n",
    "Annotated_Sample.head()"
   ]
  },
  {
   "cell_type": "markdown",
   "metadata": {},
   "source": [
    "### CountVectorizer\n",
    "\n",
    "Convert a collection of text documents to a matrix of token counts\n",
    "\n",
    "<https://scikit-learn.org/stable/modules/generated/sklearn.feature_extraction.text.CountVectorizer.html>"
   ]
  },
  {
   "cell_type": "code",
   "execution_count": 7,
   "metadata": {},
   "outputs": [],
   "source": [
    "vec_lem = CountVectorizer(ngram_range =(1,2),stop_words = stop_words,min_df=1,max_features=None, binary=True)\n",
    "\n",
    "vec_sample_lem     = vec_lem.fit_transform(Annotated_Sample[\"lemmatized_text\"])\n",
    "\n",
    "sample_vectorized_lem     = pd.DataFrame(vec_sample_lem.toarray(), columns = vec_lem.get_feature_names())\n",
    "\n",
    "\n",
    "\n",
    "#sample_vectorized_lem.sum().sort_values(ascending=False)\n"
   ]
  },
  {
   "cell_type": "code",
   "execution_count": 8,
   "metadata": {},
   "outputs": [
    {
     "data": {
      "text/html": [
       "<div>\n",
       "<style scoped>\n",
       "    .dataframe tbody tr th:only-of-type {\n",
       "        vertical-align: middle;\n",
       "    }\n",
       "\n",
       "    .dataframe tbody tr th {\n",
       "        vertical-align: top;\n",
       "    }\n",
       "\n",
       "    .dataframe thead th {\n",
       "        text-align: right;\n",
       "    }\n",
       "</style>\n",
       "<table border=\"1\" class=\"dataframe\">\n",
       "  <thead>\n",
       "    <tr style=\"text-align: right;\">\n",
       "      <th></th>\n",
       "      <th>0</th>\n",
       "      <th>1</th>\n",
       "    </tr>\n",
       "  </thead>\n",
       "  <tbody>\n",
       "    <tr>\n",
       "      <th>eczema</th>\n",
       "      <td>64.120910</td>\n",
       "      <td>1.170130e-15</td>\n",
       "    </tr>\n",
       "    <tr>\n",
       "      <th>skin</th>\n",
       "      <td>40.430153</td>\n",
       "      <td>2.037719e-10</td>\n",
       "    </tr>\n",
       "    <tr>\n",
       "      <th>thank</th>\n",
       "      <td>30.212638</td>\n",
       "      <td>3.871783e-08</td>\n",
       "    </tr>\n",
       "    <tr>\n",
       "      <th>use</th>\n",
       "      <td>29.438653</td>\n",
       "      <td>5.771495e-08</td>\n",
       "    </tr>\n",
       "    <tr>\n",
       "      <th>also</th>\n",
       "      <td>29.152150</td>\n",
       "      <td>6.691146e-08</td>\n",
       "    </tr>\n",
       "    <tr>\n",
       "      <th>...</th>\n",
       "      <td>...</td>\n",
       "      <td>...</td>\n",
       "    </tr>\n",
       "    <tr>\n",
       "      <th>always people</th>\n",
       "      <td>4.629442</td>\n",
       "      <td>3.142779e-02</td>\n",
       "    </tr>\n",
       "    <tr>\n",
       "      <th>always something</th>\n",
       "      <td>4.629442</td>\n",
       "      <td>3.142779e-02</td>\n",
       "    </tr>\n",
       "    <tr>\n",
       "      <th>amaze</th>\n",
       "      <td>4.629442</td>\n",
       "      <td>3.142779e-02</td>\n",
       "    </tr>\n",
       "    <tr>\n",
       "      <th>amaze many</th>\n",
       "      <td>4.629442</td>\n",
       "      <td>3.142779e-02</td>\n",
       "    </tr>\n",
       "    <tr>\n",
       "      <th>know hope</th>\n",
       "      <td>4.629442</td>\n",
       "      <td>3.142779e-02</td>\n",
       "    </tr>\n",
       "  </tbody>\n",
       "</table>\n",
       "<p>250 rows × 2 columns</p>\n",
       "</div>"
      ],
      "text/plain": [
       "                          0             1\n",
       "eczema            64.120910  1.170130e-15\n",
       "skin              40.430153  2.037719e-10\n",
       "thank             30.212638  3.871783e-08\n",
       "use               29.438653  5.771495e-08\n",
       "also              29.152150  6.691146e-08\n",
       "...                     ...           ...\n",
       "always people      4.629442  3.142779e-02\n",
       "always something   4.629442  3.142779e-02\n",
       "amaze              4.629442  3.142779e-02\n",
       "amaze many         4.629442  3.142779e-02\n",
       "know hope          4.629442  3.142779e-02\n",
       "\n",
       "[250 rows x 2 columns]"
      ]
     },
     "execution_count": 8,
     "metadata": {},
     "output_type": "execute_result"
    }
   ],
   "source": [
    "X = sample_vectorized_lem.drop(\"label\",axis=1)\n",
    "y = Annotated_Sample[\"label\"]\n",
    "chi_scores = chi2(X, y)\n",
    "\n",
    "s = pd.Series(chi_scores[0],index = X.columns)\n",
    "p = pd.Series(chi_scores[1],index = X.columns)\n",
    "chi= pd.concat([s, p], axis=1)\n",
    "\n",
    "chi.sort_values(by=0,ascending = False , inplace = True)\n",
    "chi.head(250)\n",
    "\n"
   ]
  },
  {
   "cell_type": "code",
   "execution_count": 9,
   "metadata": {},
   "outputs": [
    {
     "name": "stdout",
     "output_type": "stream",
     "text": [
      "[[0 0 0 ... 0 0 0]\n",
      " [0 0 0 ... 0 0 0]\n",
      " [0 0 0 ... 0 0 0]\n",
      " ...\n",
      " [0 0 0 ... 0 0 1]\n",
      " [0 1 0 ... 0 0 0]\n",
      " [0 0 0 ... 1 1 0]]\n"
     ]
    }
   ],
   "source": [
    "#sample_vectorized_lem [\"label\"] = Annotated_Sample[\"label\"]\n",
    "#sample_vectorized_lem[sample_vectorized_lem.columns[1:]].corr()['label'][:]\n",
    "X_new = SelectKBest(chi2, k=20).fit_transform(X, y)\n",
    "print(X_new)"
   ]
  },
  {
   "cell_type": "code",
   "execution_count": null,
   "metadata": {},
   "outputs": [],
   "source": [
    "\n",
    "\n"
   ]
  },
  {
   "cell_type": "markdown",
   "metadata": {},
   "source": [
    "### TfidfVectorizer\n",
    "\n",
    "TF-IDF (term frequency-inverse document frequency) was invented for document search and information retrieval. It works by increasing proportionally to the number of times a word appears in a document, but is offset by the number of documents that contain the word. \n",
    "\n",
    "\n",
    "<https://scikit-learn.org/stable/modules/generated/sklearn.feature_extraction.text.TfidfVectorizer.html>"
   ]
  },
  {
   "cell_type": "code",
   "execution_count": 10,
   "metadata": {},
   "outputs": [
    {
     "data": {
      "text/plain": [
       "thanks             1.0\n",
       "zyrtec wa          0.0\n",
       "friendly cheap     0.0\n",
       "friction enough    0.0\n",
       "friday             0.0\n",
       "                  ... \n",
       "provide hope       0.0\n",
       "provide use        0.0\n",
       "provider           0.0\n",
       "provider anthem    0.0\n",
       "abbvie             0.0\n",
       "Name: 0, Length: 30834, dtype: float64"
      ]
     },
     "execution_count": 10,
     "metadata": {},
     "output_type": "execute_result"
    }
   ],
   "source": [
    "tvec_lem = TfidfVectorizer(ngram_range =(1,2),stop_words = stop_words,max_features=None)\n",
    "\n",
    "tvec_sample_lem     = tvec_lem.fit_transform(Annotated_Sample[\"lemmatized_text\"])\n",
    "\n",
    "tsample_vectorized_lem     = pd.DataFrame(tvec_sample_lem.toarray(),columns = tvec_lem.get_feature_names())\n",
    "\n",
    "tsample_vectorized_lem.T[0].sort_values(ascending=False)"
   ]
  },
  {
   "cell_type": "markdown",
   "metadata": {},
   "source": [
    "# Modelling\n",
    "\n",
    "__Create Test and Training data split__"
   ]
  },
  {
   "cell_type": "code",
   "execution_count": 11,
   "metadata": {},
   "outputs": [],
   "source": [
    "X = Annotated_Sample[\"lemmatized_text\"]\n",
    "y = Annotated_Sample[\"label\"]\n",
    "\n",
    "# The random state ensures reproducability\n",
    "# The stratify argument preserves the distribution of classes\n",
    "\n",
    "X_train, X_test, y_train, y_test = train_test_split(X,\n",
    "                                                    y,\n",
    "                                                    random_state = 42,\n",
    "                                                    stratify     = y)"
   ]
  },
  {
   "cell_type": "markdown",
   "metadata": {},
   "source": [
    "## Support Vector Classifier\n",
    "\n",
    "A support vector machine (in this case a classifier) is at its core a linear model. However, instead of running like a logistic regression, it seeks to linearly separate the data. To do that, it uses a kernel to raise the data into n-dimensional space. It then uses a line, plane (3-dimensional line), or hyperplane (greater than 3-dimensions) to delineate the data\n",
    "\n"
   ]
  },
  {
   "cell_type": "markdown",
   "metadata": {},
   "source": [
    "### Count Vector"
   ]
  },
  {
   "cell_type": "code",
   "execution_count": 12,
   "metadata": {},
   "outputs": [],
   "source": [
    "# Setting up the count vector pipeline\n",
    "\n",
    "cvec_svc_pipe = Pipeline([(\"cvec\", CountVectorizer()),\n",
    "                          (\"bestf\",SelectKBest()),\n",
    "                          (\"svc\", SVC())])\n",
    "\n",
    "\n"
   ]
  },
  {
   "cell_type": "markdown",
   "metadata": {},
   "source": [
    "#### Count Vector + SVM Kernel - Linear \n"
   ]
  },
  {
   "cell_type": "code",
   "execution_count": 17,
   "metadata": {},
   "outputs": [
    {
     "name": "stdout",
     "output_type": "stream",
     "text": [
      "{'bestf__k': 500, 'bestf__score_func': <function chi2 at 0x7fd3a9d64a60>, 'cvec__binary': True, 'cvec__max_features': None, 'cvec__min_df': 2, 'cvec__ngram_range': (1, 2), 'cvec__stop_words': ['i', 'me', 'my', 'myself', 'we', 'our', 'ours', 'ourselves', 'you', \"you're\", \"you've\", \"you'll\", \"you'd\", 'your', 'yours', 'yourself', 'yourselves', 'he', 'him', 'his', 'himself', 'she', \"she's\", 'her', 'hers', 'herself', 'it', \"it's\", 'its', 'itself', 'they', 'them', 'their', 'theirs', 'themselves', 'what', 'which', 'who', 'whom', 'this', 'that', \"that'll\", 'these', 'those', 'am', 'is', 'are', 'was', 'were', 'be', 'been', 'being', 'have', 'has', 'had', 'having', 'do', 'does', 'did', 'doing', 'a', 'an', 'the', 'and', 'but', 'if', 'or', 'because', 'as', 'until', 'while', 'of', 'at', 'by', 'for', 'with', 'about', 'against', 'between', 'into', 'through', 'during', 'before', 'after', 'above', 'below', 'to', 'from', 'up', 'down', 'in', 'out', 'on', 'off', 'over', 'under', 'again', 'further', 'then', 'once', 'here', 'there', 'when', 'where', 'why', 'how', 'all', 'any', 'both', 'each', 'few', 'more', 'most', 'other', 'some', 'such', 'no', 'nor', 'not', 'only', 'own', 'same', 'so', 'than', 'too', 'very', 's', 't', 'can', 'will', 'just', 'don', \"don't\", 'should', \"should've\", 'now', 'd', 'll', 'm', 'o', 're', 've', 'y', 'ain', 'aren', \"aren't\", 'couldn', \"couldn't\", 'didn', \"didn't\", 'doesn', \"doesn't\", 'hadn', \"hadn't\", 'hasn', \"hasn't\", 'haven', \"haven't\", 'isn', \"isn't\", 'ma', 'mightn', \"mightn't\", 'mustn', \"mustn't\", 'needn', \"needn't\", 'shan', \"shan't\", 'shouldn', \"shouldn't\", 'wasn', \"wasn't\", 'weren', \"weren't\", 'won', \"won't\", 'wouldn', \"wouldn't\"], 'svc__C': 0.9, 'svc__kernel': 'linear', 'svc__probability': True}\n"
     ]
    }
   ],
   "source": [
    "# Setting CVEC and pipe hyperparameters\n",
    "cvec_linear_pipe_params = {\"cvec__max_features\": [None], \n",
    "                    \"cvec__ngram_range\" : [(1,2)], \n",
    "                    \"cvec__stop_words\"  : [stop_words],\n",
    "                    \"cvec__binary\"      : [True],\n",
    "                    \"cvec__min_df\"      : [2],\n",
    "                    \"bestf__score_func\" : [chi2],\n",
    "                    \"bestf__k\"          : [500],       \n",
    "                    \"svc__C\"            : [0.1,0.3,0.9,2.7],\n",
    "                    \"svc__kernel\"       : [\"linear\"],\n",
    "                    \"svc__probability\"  : [True]}\n",
    "\n",
    "                   \n",
    "# Instantiating the grid search\n",
    "\n",
    "cvec_linear_svc_gs = GridSearchCV(cvec_svc_pipe, \n",
    "                           param_grid = cvec_linear_pipe_params, \n",
    "                           cv         = 10,\n",
    "                           scoring    = 'roc_auc'\n",
    "                           )\n",
    "\n",
    "                    \n",
    "# Fitting the model to the training data\n",
    "\n",
    "cvec_linear_svc_gs.fit(X_train, y_train)\n",
    "\n",
    "# print best parameter after tuning \n",
    "print(cvec_linear_svc_gs.best_params_) "
   ]
  },
  {
   "cell_type": "code",
   "execution_count": 18,
   "metadata": {},
   "outputs": [
    {
     "data": {
      "text/html": [
       "<div>\n",
       "<style scoped>\n",
       "    .dataframe tbody tr th:only-of-type {\n",
       "        vertical-align: middle;\n",
       "    }\n",
       "\n",
       "    .dataframe tbody tr th {\n",
       "        vertical-align: top;\n",
       "    }\n",
       "\n",
       "    .dataframe thead th {\n",
       "        text-align: right;\n",
       "    }\n",
       "</style>\n",
       "<table border=\"1\" class=\"dataframe\">\n",
       "  <thead>\n",
       "    <tr style=\"text-align: right;\">\n",
       "      <th></th>\n",
       "      <th>param_bestf__k</th>\n",
       "      <th>param_cvec__binary</th>\n",
       "      <th>param_svc__C</th>\n",
       "      <th>param_svc__kernel</th>\n",
       "      <th>mean_test_score</th>\n",
       "      <th>rank_test_score</th>\n",
       "    </tr>\n",
       "  </thead>\n",
       "  <tbody>\n",
       "    <tr>\n",
       "      <th>2</th>\n",
       "      <td>500</td>\n",
       "      <td>True</td>\n",
       "      <td>0.9</td>\n",
       "      <td>linear</td>\n",
       "      <td>0.910</td>\n",
       "      <td>1</td>\n",
       "    </tr>\n",
       "    <tr>\n",
       "      <th>1</th>\n",
       "      <td>500</td>\n",
       "      <td>True</td>\n",
       "      <td>0.3</td>\n",
       "      <td>linear</td>\n",
       "      <td>0.904</td>\n",
       "      <td>2</td>\n",
       "    </tr>\n",
       "    <tr>\n",
       "      <th>3</th>\n",
       "      <td>500</td>\n",
       "      <td>True</td>\n",
       "      <td>2.7</td>\n",
       "      <td>linear</td>\n",
       "      <td>0.900</td>\n",
       "      <td>3</td>\n",
       "    </tr>\n",
       "    <tr>\n",
       "      <th>0</th>\n",
       "      <td>500</td>\n",
       "      <td>True</td>\n",
       "      <td>0.1</td>\n",
       "      <td>linear</td>\n",
       "      <td>0.899</td>\n",
       "      <td>4</td>\n",
       "    </tr>\n",
       "  </tbody>\n",
       "</table>\n",
       "</div>"
      ],
      "text/plain": [
       "  param_bestf__k param_cvec__binary param_svc__C param_svc__kernel  \\\n",
       "2            500               True          0.9            linear   \n",
       "1            500               True          0.3            linear   \n",
       "3            500               True          2.7            linear   \n",
       "0            500               True          0.1            linear   \n",
       "\n",
       "   mean_test_score  rank_test_score  \n",
       "2            0.910                1  \n",
       "1            0.904                2  \n",
       "3            0.900                3  \n",
       "0            0.899                4  "
      ]
     },
     "execution_count": 18,
     "metadata": {},
     "output_type": "execute_result"
    }
   ],
   "source": [
    "results_linear = pd.DataFrame(cvec_linear_svc_gs.cv_results_)\n",
    "\n",
    "#results.head()\n",
    "results_linear = results_linear.sort_values(by='rank_test_score')\n",
    "results_linear[['param_bestf__k','param_cvec__binary','param_svc__C', 'param_svc__kernel','mean_test_score', 'rank_test_score']].round(3).head(20)"
   ]
  },
  {
   "cell_type": "code",
   "execution_count": 19,
   "metadata": {},
   "outputs": [],
   "source": [
    "# Generating training predictions\n",
    "\n",
    "cvec_linear_train_preds = cvec_linear_svc_gs.predict(X_train)\n",
    "\n",
    "cvec_linear_train_score = cvec_linear_svc_gs.decision_function(X_train)\n",
    "\n",
    "# Training metrics\n",
    "\n",
    "summary_training_linear=metrics.binary_classification_summary(y_train, cvec_linear_train_preds,cvec_linear_train_score,'summary_training_linear')"
   ]
  },
  {
   "cell_type": "code",
   "execution_count": 20,
   "metadata": {},
   "outputs": [
    {
     "data": {
      "text/html": [
       "<div>\n",
       "<style scoped>\n",
       "    .dataframe tbody tr th:only-of-type {\n",
       "        vertical-align: middle;\n",
       "    }\n",
       "\n",
       "    .dataframe tbody tr th {\n",
       "        vertical-align: top;\n",
       "    }\n",
       "\n",
       "    .dataframe thead th {\n",
       "        text-align: right;\n",
       "    }\n",
       "</style>\n",
       "<table border=\"1\" class=\"dataframe\">\n",
       "  <thead>\n",
       "    <tr style=\"text-align: right;\">\n",
       "      <th></th>\n",
       "      <th>summary_training_linear</th>\n",
       "    </tr>\n",
       "  </thead>\n",
       "  <tbody>\n",
       "    <tr>\n",
       "      <th>Accuracy</th>\n",
       "      <td>0.977136</td>\n",
       "    </tr>\n",
       "    <tr>\n",
       "      <th>Sensitivity</th>\n",
       "      <td>0.972973</td>\n",
       "    </tr>\n",
       "    <tr>\n",
       "      <th>Specificity</th>\n",
       "      <td>0.978038</td>\n",
       "    </tr>\n",
       "    <tr>\n",
       "      <th>AUROC</th>\n",
       "      <td>0.996280</td>\n",
       "    </tr>\n",
       "    <tr>\n",
       "      <th>Matthews Corr. Coef.</th>\n",
       "      <td>0.925004</td>\n",
       "    </tr>\n",
       "  </tbody>\n",
       "</table>\n",
       "</div>"
      ],
      "text/plain": [
       "                      summary_training_linear\n",
       "Accuracy                             0.977136\n",
       "Sensitivity                          0.972973\n",
       "Specificity                          0.978038\n",
       "AUROC                                0.996280\n",
       "Matthews Corr. Coef.                 0.925004"
      ]
     },
     "execution_count": 20,
     "metadata": {},
     "output_type": "execute_result"
    }
   ],
   "source": [
    "summary_training_linear.head()"
   ]
  },
  {
   "cell_type": "code",
   "execution_count": null,
   "metadata": {},
   "outputs": [],
   "source": []
  },
  {
   "cell_type": "markdown",
   "metadata": {},
   "source": [
    "#### Count Vector + SVM Kernel - rbf \n"
   ]
  },
  {
   "cell_type": "code",
   "execution_count": 21,
   "metadata": {},
   "outputs": [
    {
     "name": "stdout",
     "output_type": "stream",
     "text": [
      "{'bestf__k': 500, 'bestf__score_func': <function chi2 at 0x7fd3a9d64a60>, 'cvec__binary': True, 'cvec__max_features': None, 'cvec__min_df': 2, 'cvec__ngram_range': (1, 2), 'cvec__stop_words': ['i', 'me', 'my', 'myself', 'we', 'our', 'ours', 'ourselves', 'you', \"you're\", \"you've\", \"you'll\", \"you'd\", 'your', 'yours', 'yourself', 'yourselves', 'he', 'him', 'his', 'himself', 'she', \"she's\", 'her', 'hers', 'herself', 'it', \"it's\", 'its', 'itself', 'they', 'them', 'their', 'theirs', 'themselves', 'what', 'which', 'who', 'whom', 'this', 'that', \"that'll\", 'these', 'those', 'am', 'is', 'are', 'was', 'were', 'be', 'been', 'being', 'have', 'has', 'had', 'having', 'do', 'does', 'did', 'doing', 'a', 'an', 'the', 'and', 'but', 'if', 'or', 'because', 'as', 'until', 'while', 'of', 'at', 'by', 'for', 'with', 'about', 'against', 'between', 'into', 'through', 'during', 'before', 'after', 'above', 'below', 'to', 'from', 'up', 'down', 'in', 'out', 'on', 'off', 'over', 'under', 'again', 'further', 'then', 'once', 'here', 'there', 'when', 'where', 'why', 'how', 'all', 'any', 'both', 'each', 'few', 'more', 'most', 'other', 'some', 'such', 'no', 'nor', 'not', 'only', 'own', 'same', 'so', 'than', 'too', 'very', 's', 't', 'can', 'will', 'just', 'don', \"don't\", 'should', \"should've\", 'now', 'd', 'll', 'm', 'o', 're', 've', 'y', 'ain', 'aren', \"aren't\", 'couldn', \"couldn't\", 'didn', \"didn't\", 'doesn', \"doesn't\", 'hadn', \"hadn't\", 'hasn', \"hasn't\", 'haven', \"haven't\", 'isn', \"isn't\", 'ma', 'mightn', \"mightn't\", 'mustn', \"mustn't\", 'needn', \"needn't\", 'shan', \"shan't\", 'shouldn', \"shouldn't\", 'wasn', \"wasn't\", 'weren', \"weren't\", 'won', \"won't\", 'wouldn', \"wouldn't\"], 'svc__C': 5, 'svc__gamma': 0.2, 'svc__kernel': 'rbf', 'svc__probability': True}\n"
     ]
    }
   ],
   "source": [
    "# Setting CVEC and pipe hyperparameters\n",
    "\n",
    "cvec_rbf_pipe_params = {\"cvec__max_features\": [None], \n",
    "                    \"cvec__ngram_range\" : [(1,2)], \n",
    "                    \"cvec__stop_words\"  : [stop_words],\n",
    "                    \"cvec__binary\"      : [True],\n",
    "                    \"cvec__min_df\"      : [2],\n",
    "                    \"bestf__score_func\" : [chi2],\n",
    "                    \"bestf__k\"          : [500], \n",
    "                    \"svc__C\"            : [1,2,5,10],\n",
    "                    \"svc__gamma\"        : [0.05,0.2,0.8],\n",
    "                    \"svc__kernel\"       : [\"rbf\"],\n",
    "                    \"svc__probability\"  : [True]}\n",
    "\n",
    "                    \n",
    "# Instantiating the grid search\n",
    "\n",
    "cvec_rbf_svc_gs = GridSearchCV(cvec_svc_pipe, \n",
    "                           param_grid = cvec_rbf_pipe_params, \n",
    "                           cv         = 10,\n",
    "                           scoring    = 'roc_auc'\n",
    "                           )\n",
    "\n",
    "                    \n",
    "# Fitting the model to the training data\n",
    "\n",
    "cvec_rbf_svc_gs.fit(X_train, y_train)\n",
    "\n",
    "# print best parameter after tuning \n",
    "print(cvec_rbf_svc_gs.best_params_) "
   ]
  },
  {
   "cell_type": "code",
   "execution_count": 22,
   "metadata": {},
   "outputs": [
    {
     "data": {
      "text/html": [
       "<div>\n",
       "<style scoped>\n",
       "    .dataframe tbody tr th:only-of-type {\n",
       "        vertical-align: middle;\n",
       "    }\n",
       "\n",
       "    .dataframe tbody tr th {\n",
       "        vertical-align: top;\n",
       "    }\n",
       "\n",
       "    .dataframe thead th {\n",
       "        text-align: right;\n",
       "    }\n",
       "</style>\n",
       "<table border=\"1\" class=\"dataframe\">\n",
       "  <thead>\n",
       "    <tr style=\"text-align: right;\">\n",
       "      <th></th>\n",
       "      <th>param_bestf__k</th>\n",
       "      <th>param_cvec__binary</th>\n",
       "      <th>param_svc__C</th>\n",
       "      <th>param_svc__kernel</th>\n",
       "      <th>param_svc__gamma</th>\n",
       "      <th>mean_test_score</th>\n",
       "      <th>rank_test_score</th>\n",
       "    </tr>\n",
       "  </thead>\n",
       "  <tbody>\n",
       "    <tr>\n",
       "      <th>7</th>\n",
       "      <td>500</td>\n",
       "      <td>True</td>\n",
       "      <td>5</td>\n",
       "      <td>rbf</td>\n",
       "      <td>0.2</td>\n",
       "      <td>0.931</td>\n",
       "      <td>1</td>\n",
       "    </tr>\n",
       "    <tr>\n",
       "      <th>4</th>\n",
       "      <td>500</td>\n",
       "      <td>True</td>\n",
       "      <td>2</td>\n",
       "      <td>rbf</td>\n",
       "      <td>0.2</td>\n",
       "      <td>0.931</td>\n",
       "      <td>2</td>\n",
       "    </tr>\n",
       "    <tr>\n",
       "      <th>1</th>\n",
       "      <td>500</td>\n",
       "      <td>True</td>\n",
       "      <td>1</td>\n",
       "      <td>rbf</td>\n",
       "      <td>0.2</td>\n",
       "      <td>0.930</td>\n",
       "      <td>3</td>\n",
       "    </tr>\n",
       "    <tr>\n",
       "      <th>3</th>\n",
       "      <td>500</td>\n",
       "      <td>True</td>\n",
       "      <td>2</td>\n",
       "      <td>rbf</td>\n",
       "      <td>0.05</td>\n",
       "      <td>0.930</td>\n",
       "      <td>4</td>\n",
       "    </tr>\n",
       "    <tr>\n",
       "      <th>6</th>\n",
       "      <td>500</td>\n",
       "      <td>True</td>\n",
       "      <td>5</td>\n",
       "      <td>rbf</td>\n",
       "      <td>0.05</td>\n",
       "      <td>0.929</td>\n",
       "      <td>5</td>\n",
       "    </tr>\n",
       "    <tr>\n",
       "      <th>10</th>\n",
       "      <td>500</td>\n",
       "      <td>True</td>\n",
       "      <td>10</td>\n",
       "      <td>rbf</td>\n",
       "      <td>0.2</td>\n",
       "      <td>0.927</td>\n",
       "      <td>6</td>\n",
       "    </tr>\n",
       "    <tr>\n",
       "      <th>0</th>\n",
       "      <td>500</td>\n",
       "      <td>True</td>\n",
       "      <td>1</td>\n",
       "      <td>rbf</td>\n",
       "      <td>0.05</td>\n",
       "      <td>0.927</td>\n",
       "      <td>7</td>\n",
       "    </tr>\n",
       "    <tr>\n",
       "      <th>9</th>\n",
       "      <td>500</td>\n",
       "      <td>True</td>\n",
       "      <td>10</td>\n",
       "      <td>rbf</td>\n",
       "      <td>0.05</td>\n",
       "      <td>0.926</td>\n",
       "      <td>8</td>\n",
       "    </tr>\n",
       "    <tr>\n",
       "      <th>2</th>\n",
       "      <td>500</td>\n",
       "      <td>True</td>\n",
       "      <td>1</td>\n",
       "      <td>rbf</td>\n",
       "      <td>0.8</td>\n",
       "      <td>0.915</td>\n",
       "      <td>9</td>\n",
       "    </tr>\n",
       "    <tr>\n",
       "      <th>5</th>\n",
       "      <td>500</td>\n",
       "      <td>True</td>\n",
       "      <td>2</td>\n",
       "      <td>rbf</td>\n",
       "      <td>0.8</td>\n",
       "      <td>0.912</td>\n",
       "      <td>10</td>\n",
       "    </tr>\n",
       "    <tr>\n",
       "      <th>8</th>\n",
       "      <td>500</td>\n",
       "      <td>True</td>\n",
       "      <td>5</td>\n",
       "      <td>rbf</td>\n",
       "      <td>0.8</td>\n",
       "      <td>0.906</td>\n",
       "      <td>11</td>\n",
       "    </tr>\n",
       "    <tr>\n",
       "      <th>11</th>\n",
       "      <td>500</td>\n",
       "      <td>True</td>\n",
       "      <td>10</td>\n",
       "      <td>rbf</td>\n",
       "      <td>0.8</td>\n",
       "      <td>0.906</td>\n",
       "      <td>12</td>\n",
       "    </tr>\n",
       "  </tbody>\n",
       "</table>\n",
       "</div>"
      ],
      "text/plain": [
       "   param_bestf__k param_cvec__binary param_svc__C param_svc__kernel  \\\n",
       "7             500               True            5               rbf   \n",
       "4             500               True            2               rbf   \n",
       "1             500               True            1               rbf   \n",
       "3             500               True            2               rbf   \n",
       "6             500               True            5               rbf   \n",
       "10            500               True           10               rbf   \n",
       "0             500               True            1               rbf   \n",
       "9             500               True           10               rbf   \n",
       "2             500               True            1               rbf   \n",
       "5             500               True            2               rbf   \n",
       "8             500               True            5               rbf   \n",
       "11            500               True           10               rbf   \n",
       "\n",
       "   param_svc__gamma  mean_test_score  rank_test_score  \n",
       "7               0.2            0.931                1  \n",
       "4               0.2            0.931                2  \n",
       "1               0.2            0.930                3  \n",
       "3              0.05            0.930                4  \n",
       "6              0.05            0.929                5  \n",
       "10              0.2            0.927                6  \n",
       "0              0.05            0.927                7  \n",
       "9              0.05            0.926                8  \n",
       "2               0.8            0.915                9  \n",
       "5               0.8            0.912               10  \n",
       "8               0.8            0.906               11  \n",
       "11              0.8            0.906               12  "
      ]
     },
     "execution_count": 22,
     "metadata": {},
     "output_type": "execute_result"
    }
   ],
   "source": [
    "results_rbf = pd.DataFrame(cvec_rbf_svc_gs.cv_results_)\n",
    "results_rbf = results_rbf.sort_values(by='rank_test_score')\n",
    "#results_rbf.head()\n",
    "\n",
    "results_rbf[['param_bestf__k','param_cvec__binary','param_svc__C', 'param_svc__kernel','param_svc__gamma','mean_test_score', 'rank_test_score']].round(3).head(20)"
   ]
  },
  {
   "cell_type": "code",
   "execution_count": 23,
   "metadata": {},
   "outputs": [],
   "source": [
    "# Generating training predictions\n",
    "\n",
    "cvec_rbf_train_preds = cvec_rbf_svc_gs.predict(X_train)\n",
    "\n",
    "cvec_rbf_train_score = cvec_rbf_svc_gs.decision_function(X_train)\n",
    "\n",
    "# Training metrics\n",
    "\n",
    "summary_training_rbf=metrics.binary_classification_summary(y_train, cvec_rbf_train_preds,cvec_rbf_train_score,'summary_training_rbf')\n",
    "\n"
   ]
  },
  {
   "cell_type": "code",
   "execution_count": 24,
   "metadata": {},
   "outputs": [
    {
     "data": {
      "text/html": [
       "<div>\n",
       "<style scoped>\n",
       "    .dataframe tbody tr th:only-of-type {\n",
       "        vertical-align: middle;\n",
       "    }\n",
       "\n",
       "    .dataframe tbody tr th {\n",
       "        vertical-align: top;\n",
       "    }\n",
       "\n",
       "    .dataframe thead th {\n",
       "        text-align: right;\n",
       "    }\n",
       "</style>\n",
       "<table border=\"1\" class=\"dataframe\">\n",
       "  <thead>\n",
       "    <tr style=\"text-align: right;\">\n",
       "      <th></th>\n",
       "      <th>Predicted Related</th>\n",
       "      <th>Predicted Irrelated</th>\n",
       "    </tr>\n",
       "  </thead>\n",
       "  <tbody>\n",
       "    <tr>\n",
       "      <th>Actual Related</th>\n",
       "      <td>674</td>\n",
       "      <td>9</td>\n",
       "    </tr>\n",
       "    <tr>\n",
       "      <th>Actual Irrelated</th>\n",
       "      <td>0</td>\n",
       "      <td>148</td>\n",
       "    </tr>\n",
       "  </tbody>\n",
       "</table>\n",
       "</div>"
      ],
      "text/plain": [
       "                  Predicted Related  Predicted Irrelated\n",
       "Actual Related                  674                    9\n",
       "Actual Irrelated                  0                  148"
      ]
     },
     "execution_count": 24,
     "metadata": {},
     "output_type": "execute_result"
    }
   ],
   "source": [
    "# Generating a confusion matrix on the test results\n",
    "\n",
    "metrics.confusion_matrix_dataframe(y_train, \n",
    "                                   cvec_rbf_train_preds,\n",
    "                                   columns = [\"Predicted Related\", \"Predicted Irrelated\"],\n",
    "                                   index   = [\"Actual Related\", \"Actual Irrelated\"])"
   ]
  },
  {
   "cell_type": "code",
   "execution_count": 25,
   "metadata": {},
   "outputs": [
    {
     "data": {
      "text/html": [
       "<div>\n",
       "<style scoped>\n",
       "    .dataframe tbody tr th:only-of-type {\n",
       "        vertical-align: middle;\n",
       "    }\n",
       "\n",
       "    .dataframe tbody tr th {\n",
       "        vertical-align: top;\n",
       "    }\n",
       "\n",
       "    .dataframe thead th {\n",
       "        text-align: right;\n",
       "    }\n",
       "</style>\n",
       "<table border=\"1\" class=\"dataframe\">\n",
       "  <thead>\n",
       "    <tr style=\"text-align: right;\">\n",
       "      <th></th>\n",
       "      <th>summary_training_rbf</th>\n",
       "    </tr>\n",
       "  </thead>\n",
       "  <tbody>\n",
       "    <tr>\n",
       "      <th>Accuracy</th>\n",
       "      <td>0.989170</td>\n",
       "    </tr>\n",
       "    <tr>\n",
       "      <th>Sensitivity</th>\n",
       "      <td>1.000000</td>\n",
       "    </tr>\n",
       "    <tr>\n",
       "      <th>Specificity</th>\n",
       "      <td>0.986823</td>\n",
       "    </tr>\n",
       "    <tr>\n",
       "      <th>AUROC</th>\n",
       "      <td>0.993431</td>\n",
       "    </tr>\n",
       "    <tr>\n",
       "      <th>Matthews Corr. Coef.</th>\n",
       "      <td>0.964496</td>\n",
       "    </tr>\n",
       "  </tbody>\n",
       "</table>\n",
       "</div>"
      ],
      "text/plain": [
       "                      summary_training_rbf\n",
       "Accuracy                          0.989170\n",
       "Sensitivity                       1.000000\n",
       "Specificity                       0.986823\n",
       "AUROC                             0.993431\n",
       "Matthews Corr. Coef.              0.964496"
      ]
     },
     "execution_count": 25,
     "metadata": {},
     "output_type": "execute_result"
    }
   ],
   "source": [
    "summary_training_rbf.head()"
   ]
  },
  {
   "cell_type": "code",
   "execution_count": null,
   "metadata": {},
   "outputs": [],
   "source": []
  },
  {
   "cell_type": "code",
   "execution_count": null,
   "metadata": {},
   "outputs": [],
   "source": []
  },
  {
   "cell_type": "code",
   "execution_count": null,
   "metadata": {},
   "outputs": [],
   "source": []
  },
  {
   "cell_type": "markdown",
   "metadata": {},
   "source": [
    "### Fining Tuning with Threshold Moving"
   ]
  },
  {
   "cell_type": "code",
   "execution_count": 26,
   "metadata": {},
   "outputs": [
    {
     "data": {
      "text/plain": [
       "\"\\n# calculate fscore\\nfscore = (2*p*r)/(p+r)\\n#locate the index of the largest fscore\\nix=np.argmax(fscore)\\nprint('Best Threshold=%f, F-score=%.3f'%(thresholds[ix],fscore[ix]))\\n\\n# plot the precision recall curve\\n\\nplt.plot(r, p, marker='.', label='')\\nplt.scatter(r[ix],p[ix],marker='X',color='red',label='Best')\\nplt.xlabel('Recall')\\nplt.ylabel('Precision')\\n\""
      ]
     },
     "execution_count": 26,
     "metadata": {},
     "output_type": "execute_result"
    }
   ],
   "source": [
    "\"\"\"\n",
    "# calculate fscore\n",
    "fscore = (2*p*r)/(p+r)\n",
    "#locate the index of the largest fscore\n",
    "ix=np.argmax(fscore)\n",
    "print('Best Threshold=%f, F-score=%.3f'%(thresholds[ix],fscore[ix]))\n",
    "\n",
    "# plot the precision recall curve\n",
    "\n",
    "plt.plot(r, p, marker='.', label='')\n",
    "plt.scatter(r[ix],p[ix],marker='X',color='red',label='Best')\n",
    "plt.xlabel('Recall')\n",
    "plt.ylabel('Precision')\n",
    "\"\"\""
   ]
  },
  {
   "cell_type": "code",
   "execution_count": 27,
   "metadata": {},
   "outputs": [],
   "source": [
    "def plot_precision_recall_vs_threshold(precisions, recalls, thresholds):\n",
    "\n",
    "    fscore = (2*precisions*recalls)/(precisions+recalls)\n",
    "    plt.figure(figsize=(8, 8))\n",
    "    plt.title(\"Precision and Recall Scores as a function of the decision threshold\")\n",
    "    plt.plot(thresholds, precisions[:-1], \"b--\", label=\"Precision\")\n",
    "    plt.plot(thresholds, recalls[:-1], \"g-\", label=\"Recall\")\n",
    "    plt.plot(thresholds, fscore[:-1], \"k:\", label=\"fscore\")\n",
    "    plt.ylabel(\"Score\")\n",
    "    plt.xlabel(\"Decision Threshold\")\n",
    "    ix=np.argmax(fscore)\n",
    "    plt.scatter(thresholds[ix],fscore[ix],marker='X',color='red',label='Best')\n",
    "    print('Best Threshold=%f, F-score=%.3f'%(thresholds[ix],fscore[ix]))\n",
    "    threshold_= thresholds[ix]\n",
    "    return threshold_\n"
   ]
  },
  {
   "cell_type": "code",
   "execution_count": 28,
   "metadata": {},
   "outputs": [],
   "source": [
    "# This function allows for dataframes to be displayed side-by-side\n",
    "\n",
    "def display_side_by_side(*args):\n",
    "    html_str = ''\n",
    "    for df in args:\n",
    "        html_str += df.to_html()\n",
    "    display_html(html_str.replace('table', 'table style=\"display:inline\"'), raw = True)"
   ]
  },
  {
   "cell_type": "code",
   "execution_count": 29,
   "metadata": {},
   "outputs": [],
   "source": [
    "def adjusted_prediction(y_scores,t):\n",
    "    return [1 if y >= t else 0 for y in y_scores]"
   ]
  },
  {
   "cell_type": "markdown",
   "metadata": {},
   "source": [
    "#### Linear Kernel"
   ]
  },
  {
   "cell_type": "code",
   "execution_count": 30,
   "metadata": {},
   "outputs": [],
   "source": [
    "precision_linear, recall_linear, thresholds_linear = precision_recall_curve(y_train, cvec_linear_train_score)"
   ]
  },
  {
   "cell_type": "code",
   "execution_count": 31,
   "metadata": {},
   "outputs": [
    {
     "name": "stdout",
     "output_type": "stream",
     "text": [
      "Best Threshold=0.147434, F-score=0.950\n"
     ]
    },
    {
     "data": {
      "image/png": "[encoded data removed]",
      "text/plain": [
       "<Figure size 576x576 with 1 Axes>"
      ]
     },
     "metadata": {
      "needs_background": "light"
     },
     "output_type": "display_data"
    }
   ],
   "source": [
    "# plot the precion, recall and f score a function of the decision threshold based on the linear kernal\n",
    "\n",
    "adjusted_threshold_linear=plot_precision_recall_vs_threshold(precision_linear, recall_linear, thresholds_linear)"
   ]
  },
  {
   "cell_type": "code",
   "execution_count": 32,
   "metadata": {},
   "outputs": [
    {
     "name": "stdout",
     "output_type": "stream",
     "text": [
      "0.14743416997194758\n"
     ]
    }
   ],
   "source": [
    "print(adjusted_threshold_linear)"
   ]
  },
  {
   "cell_type": "code",
   "execution_count": 33,
   "metadata": {},
   "outputs": [],
   "source": [
    "cvec_linear_train_new_preds=adjusted_prediction(cvec_linear_train_score,adjusted_threshold_linear)"
   ]
  },
  {
   "cell_type": "code",
   "execution_count": 34,
   "metadata": {},
   "outputs": [
    {
     "data": {
      "text/html": [
       "<div>\n",
       "<style scoped>\n",
       "    .dataframe tbody tr th:only-of-type {\n",
       "        vertical-align: middle;\n",
       "    }\n",
       "\n",
       "    .dataframe tbody tr th {\n",
       "        vertical-align: top;\n",
       "    }\n",
       "\n",
       "    .dataframe thead th {\n",
       "        text-align: right;\n",
       "    }\n",
       "</style>\n",
       "<table border=\"1\" class=\"dataframe\">\n",
       "  <thead>\n",
       "    <tr style=\"text-align: right;\">\n",
       "      <th></th>\n",
       "      <th>Predicted Related (Ajusted)</th>\n",
       "      <th>Predicted Irrelated(Ajusted)</th>\n",
       "    </tr>\n",
       "  </thead>\n",
       "  <tbody>\n",
       "    <tr>\n",
       "      <th>Actual Related</th>\n",
       "      <td>672</td>\n",
       "      <td>11</td>\n",
       "    </tr>\n",
       "    <tr>\n",
       "      <th>Actual Irrelated</th>\n",
       "      <td>4</td>\n",
       "      <td>144</td>\n",
       "    </tr>\n",
       "  </tbody>\n",
       "</table>\n",
       "</div>"
      ],
      "text/plain": [
       "                  Predicted Related (Ajusted)  Predicted Irrelated(Ajusted)\n",
       "Actual Related                            672                            11\n",
       "Actual Irrelated                            4                           144"
      ]
     },
     "execution_count": 34,
     "metadata": {},
     "output_type": "execute_result"
    }
   ],
   "source": [
    "# Generating a new confusion matrix on the training results\n",
    "\n",
    "metrics.confusion_matrix_dataframe(y_train, \n",
    "                                   cvec_linear_train_new_preds,\n",
    "                                   columns = [\"Predicted Related (Ajusted)\", \"Predicted Irrelated(Ajusted)\"],\n",
    "                                   index   = [\"Actual Related\", \"Actual Irrelated\"])"
   ]
  },
  {
   "cell_type": "code",
   "execution_count": 35,
   "metadata": {},
   "outputs": [],
   "source": [
    "summary_training_linear_new=metrics.binary_classification_summary(y_train, cvec_linear_train_new_preds,cvec_rbf_train_score,'summary_training_linear_adjusted')"
   ]
  },
  {
   "cell_type": "code",
   "execution_count": null,
   "metadata": {},
   "outputs": [],
   "source": []
  },
  {
   "cell_type": "code",
   "execution_count": null,
   "metadata": {},
   "outputs": [],
   "source": []
  },
  {
   "cell_type": "markdown",
   "metadata": {},
   "source": [
    "#### rbf Kernal"
   ]
  },
  {
   "cell_type": "code",
   "execution_count": 36,
   "metadata": {},
   "outputs": [],
   "source": [
    "precision_rbf, recall_rbf, thresholds_rbf= precision_recall_curve(y_train, cvec_rbf_train_score)\n"
   ]
  },
  {
   "cell_type": "code",
   "execution_count": 37,
   "metadata": {},
   "outputs": [
    {
     "name": "stdout",
     "output_type": "stream",
     "text": [
      "Best Threshold=0.351130, F-score=0.977\n"
     ]
    },
    {
     "data": {
      "image/png": "[encoded data removed]",
      "text/plain": [
       "<Figure size 576x576 with 1 Axes>"
      ]
     },
     "metadata": {
      "needs_background": "light"
     },
     "output_type": "display_data"
    }
   ],
   "source": [
    "# plot the precion, recall and f score a function of the decision threshold based on the rbf kernal\n",
    "\n",
    "adjusted_threshold_rbf=plot_precision_recall_vs_threshold(precision_rbf, recall_rbf, thresholds_rbf)"
   ]
  },
  {
   "cell_type": "code",
   "execution_count": 38,
   "metadata": {},
   "outputs": [
    {
     "name": "stdout",
     "output_type": "stream",
     "text": [
      "0.3511296292022006\n"
     ]
    }
   ],
   "source": [
    "print(adjusted_threshold_rbf)"
   ]
  },
  {
   "cell_type": "code",
   "execution_count": 39,
   "metadata": {},
   "outputs": [],
   "source": [
    "cvec_rbf_train_new_preds=adjusted_prediction(cvec_rbf_train_score,adjusted_threshold_rbf)"
   ]
  },
  {
   "cell_type": "code",
   "execution_count": 40,
   "metadata": {},
   "outputs": [
    {
     "data": {
      "text/html": [
       "<div>\n",
       "<style scoped>\n",
       "    .dataframe tbody tr th:only-of-type {\n",
       "        vertical-align: middle;\n",
       "    }\n",
       "\n",
       "    .dataframe tbody tr th {\n",
       "        vertical-align: top;\n",
       "    }\n",
       "\n",
       "    .dataframe thead th {\n",
       "        text-align: right;\n",
       "    }\n",
       "</style>\n",
       "<table border=\"1\" class=\"dataframe\">\n",
       "  <thead>\n",
       "    <tr style=\"text-align: right;\">\n",
       "      <th></th>\n",
       "      <th>Predicted Related (Ajusted)</th>\n",
       "      <th>Predicted Irrelated(Ajusted)</th>\n",
       "    </tr>\n",
       "  </thead>\n",
       "  <tbody>\n",
       "    <tr>\n",
       "      <th>Actual Related</th>\n",
       "      <td>676</td>\n",
       "      <td>7</td>\n",
       "    </tr>\n",
       "    <tr>\n",
       "      <th>Actual Irrelated</th>\n",
       "      <td>0</td>\n",
       "      <td>148</td>\n",
       "    </tr>\n",
       "  </tbody>\n",
       "</table>\n",
       "</div>"
      ],
      "text/plain": [
       "                  Predicted Related (Ajusted)  Predicted Irrelated(Ajusted)\n",
       "Actual Related                            676                             7\n",
       "Actual Irrelated                            0                           148"
      ]
     },
     "execution_count": 40,
     "metadata": {},
     "output_type": "execute_result"
    }
   ],
   "source": [
    "# Generating a confusion matrix on the test results\n",
    "\n",
    "metrics.confusion_matrix_dataframe(y_train, \n",
    "                                   cvec_rbf_train_new_preds,\n",
    "                                   columns = [\"Predicted Related (Ajusted)\", \"Predicted Irrelated(Ajusted)\"],\n",
    "                                   index   = [\"Actual Related\", \"Actual Irrelated\"])"
   ]
  },
  {
   "cell_type": "code",
   "execution_count": 42,
   "metadata": {},
   "outputs": [],
   "source": [
    "summary_training_rbf_new=metrics.binary_classification_summary(y_train, cvec_rbf_train_new_preds,cvec_rbf_train_score,'summary_training_rbf_adjusted')\n"
   ]
  },
  {
   "cell_type": "code",
   "execution_count": 43,
   "metadata": {},
   "outputs": [
    {
     "data": {
      "text/html": [
       "<table style=\"display:inline\" border=\"1\" class=\"dataframe\">\n",
       "  <thead>\n",
       "    <tr style=\"text-align: right;\">\n",
       "      <th></th>\n",
       "      <th>summary_training_linear</th>\n",
       "    </tr>\n",
       "  </thead>\n",
       "  <tbody>\n",
       "    <tr>\n",
       "      <th>Accuracy</th>\n",
       "      <td>0.977136</td>\n",
       "    </tr>\n",
       "    <tr>\n",
       "      <th>Sensitivity</th>\n",
       "      <td>0.972973</td>\n",
       "    </tr>\n",
       "    <tr>\n",
       "      <th>Specificity</th>\n",
       "      <td>0.978038</td>\n",
       "    </tr>\n",
       "    <tr>\n",
       "      <th>AUROC</th>\n",
       "      <td>0.996280</td>\n",
       "    </tr>\n",
       "    <tr>\n",
       "      <th>Matthews Corr. Coef.</th>\n",
       "      <td>0.925004</td>\n",
       "    </tr>\n",
       "  </tbody>\n",
       "</table style=\"display:inline\"><table style=\"display:inline\" border=\"1\" class=\"dataframe\">\n",
       "  <thead>\n",
       "    <tr style=\"text-align: right;\">\n",
       "      <th></th>\n",
       "      <th>summary_training_linear_adjusted</th>\n",
       "    </tr>\n",
       "  </thead>\n",
       "  <tbody>\n",
       "    <tr>\n",
       "      <th>Accuracy</th>\n",
       "      <td>0.981949</td>\n",
       "    </tr>\n",
       "    <tr>\n",
       "      <th>Sensitivity</th>\n",
       "      <td>0.972973</td>\n",
       "    </tr>\n",
       "    <tr>\n",
       "      <th>Specificity</th>\n",
       "      <td>0.983895</td>\n",
       "    </tr>\n",
       "    <tr>\n",
       "      <th>AUROC</th>\n",
       "      <td>0.993431</td>\n",
       "    </tr>\n",
       "    <tr>\n",
       "      <th>Matthews Corr. Coef.</th>\n",
       "      <td>0.939840</td>\n",
       "    </tr>\n",
       "  </tbody>\n",
       "</table style=\"display:inline\"><table style=\"display:inline\" border=\"1\" class=\"dataframe\">\n",
       "  <thead>\n",
       "    <tr style=\"text-align: right;\">\n",
       "      <th></th>\n",
       "      <th>summary_training_rbf</th>\n",
       "    </tr>\n",
       "  </thead>\n",
       "  <tbody>\n",
       "    <tr>\n",
       "      <th>Accuracy</th>\n",
       "      <td>0.989170</td>\n",
       "    </tr>\n",
       "    <tr>\n",
       "      <th>Sensitivity</th>\n",
       "      <td>1.000000</td>\n",
       "    </tr>\n",
       "    <tr>\n",
       "      <th>Specificity</th>\n",
       "      <td>0.986823</td>\n",
       "    </tr>\n",
       "    <tr>\n",
       "      <th>AUROC</th>\n",
       "      <td>0.993431</td>\n",
       "    </tr>\n",
       "    <tr>\n",
       "      <th>Matthews Corr. Coef.</th>\n",
       "      <td>0.964496</td>\n",
       "    </tr>\n",
       "  </tbody>\n",
       "</table style=\"display:inline\"><table style=\"display:inline\" border=\"1\" class=\"dataframe\">\n",
       "  <thead>\n",
       "    <tr style=\"text-align: right;\">\n",
       "      <th></th>\n",
       "      <th>summary_training_rbf_adjusted</th>\n",
       "    </tr>\n",
       "  </thead>\n",
       "  <tbody>\n",
       "    <tr>\n",
       "      <th>Accuracy</th>\n",
       "      <td>0.991576</td>\n",
       "    </tr>\n",
       "    <tr>\n",
       "      <th>Sensitivity</th>\n",
       "      <td>1.000000</td>\n",
       "    </tr>\n",
       "    <tr>\n",
       "      <th>Specificity</th>\n",
       "      <td>0.989751</td>\n",
       "    </tr>\n",
       "    <tr>\n",
       "      <th>AUROC</th>\n",
       "      <td>0.993431</td>\n",
       "    </tr>\n",
       "    <tr>\n",
       "      <th>Matthews Corr. Coef.</th>\n",
       "      <td>0.972138</td>\n",
       "    </tr>\n",
       "  </tbody>\n",
       "</table style=\"display:inline\">"
      ]
     },
     "metadata": {},
     "output_type": "display_data"
    }
   ],
   "source": [
    "display_side_by_side(summary_training_linear,summary_training_linear_new,summary_training_rbf,summary_training_rbf_new)"
   ]
  },
  {
   "cell_type": "markdown",
   "metadata": {},
   "source": [
    "### Validating on test dataset"
   ]
  },
  {
   "cell_type": "markdown",
   "metadata": {},
   "source": [
    "#### Linear Kernel"
   ]
  },
  {
   "cell_type": "code",
   "execution_count": 44,
   "metadata": {},
   "outputs": [],
   "source": [
    "# Generating test predictions based on linear kernel\n",
    "\n",
    "cvec_linear_svc_preds_test       = cvec_linear_svc_gs.predict(X_test)\n",
    "\n",
    "cvec_linear_svc_score_test       = cvec_linear_svc_gs.decision_function(X_test)\n"
   ]
  },
  {
   "cell_type": "code",
   "execution_count": 45,
   "metadata": {},
   "outputs": [
    {
     "name": "stdout",
     "output_type": "stream",
     "text": [
      "Best Threshold=0.022572, F-score=0.707\n"
     ]
    },
    {
     "data": {
      "text/plain": [
       "0.022572363371333948"
      ]
     },
     "execution_count": 45,
     "metadata": {},
     "output_type": "execute_result"
    },
    {
     "data": {
      "image/png": "[encoded data removed]",
      "text/plain": [
       "<Figure size 576x576 with 1 Axes>"
      ]
     },
     "metadata": {
      "needs_background": "light"
     },
     "output_type": "display_data"
    }
   ],
   "source": [
    "precision_linear_test, recall_linear_test, threshold_linear_test = precision_recall_curve(y_test, cvec_linear_svc_score_test)\n",
    "\n",
    "# use the same p, r, thresholds that were previously calculated\n",
    "plot_precision_recall_vs_threshold(precision_linear_test, recall_linear_test, threshold_linear_test)"
   ]
  },
  {
   "cell_type": "code",
   "execution_count": 46,
   "metadata": {},
   "outputs": [],
   "source": [
    "cvec_linear_svc_preds_test_new=adjusted_prediction(cvec_linear_svc_score_test,adjusted_threshold_linear)"
   ]
  },
  {
   "cell_type": "code",
   "execution_count": 47,
   "metadata": {},
   "outputs": [
    {
     "data": {
      "text/html": [
       "<div>\n",
       "<style scoped>\n",
       "    .dataframe tbody tr th:only-of-type {\n",
       "        vertical-align: middle;\n",
       "    }\n",
       "\n",
       "    .dataframe tbody tr th {\n",
       "        vertical-align: top;\n",
       "    }\n",
       "\n",
       "    .dataframe thead th {\n",
       "        text-align: right;\n",
       "    }\n",
       "</style>\n",
       "<table border=\"1\" class=\"dataframe\">\n",
       "  <thead>\n",
       "    <tr style=\"text-align: right;\">\n",
       "      <th></th>\n",
       "      <th>Predicted Related</th>\n",
       "      <th>Predicted Irrelated</th>\n",
       "    </tr>\n",
       "  </thead>\n",
       "  <tbody>\n",
       "    <tr>\n",
       "      <th>Actual Related</th>\n",
       "      <td>202</td>\n",
       "      <td>27</td>\n",
       "    </tr>\n",
       "    <tr>\n",
       "      <th>Actual Irrelated</th>\n",
       "      <td>8</td>\n",
       "      <td>41</td>\n",
       "    </tr>\n",
       "  </tbody>\n",
       "</table>\n",
       "</div>"
      ],
      "text/plain": [
       "                  Predicted Related  Predicted Irrelated\n",
       "Actual Related                  202                   27\n",
       "Actual Irrelated                  8                   41"
      ]
     },
     "execution_count": 47,
     "metadata": {},
     "output_type": "execute_result"
    }
   ],
   "source": [
    "# Generating a confusion matrix on the test results based on linear kernal\n",
    "\n",
    "metrics.confusion_matrix_dataframe(y_test, \n",
    "                                   cvec_linear_svc_preds_test,\n",
    "                                   columns = [\"Predicted Related\", \"Predicted Irrelated\"],\n",
    "                                   index   = [\"Actual Related\", \"Actual Irrelated\"])"
   ]
  },
  {
   "cell_type": "code",
   "execution_count": 48,
   "metadata": {},
   "outputs": [
    {
     "data": {
      "text/html": [
       "<div>\n",
       "<style scoped>\n",
       "    .dataframe tbody tr th:only-of-type {\n",
       "        vertical-align: middle;\n",
       "    }\n",
       "\n",
       "    .dataframe tbody tr th {\n",
       "        vertical-align: top;\n",
       "    }\n",
       "\n",
       "    .dataframe thead th {\n",
       "        text-align: right;\n",
       "    }\n",
       "</style>\n",
       "<table border=\"1\" class=\"dataframe\">\n",
       "  <thead>\n",
       "    <tr style=\"text-align: right;\">\n",
       "      <th></th>\n",
       "      <th>Predicted Related (Ajusted)</th>\n",
       "      <th>Predicted Irrelated(Ajusted)</th>\n",
       "    </tr>\n",
       "  </thead>\n",
       "  <tbody>\n",
       "    <tr>\n",
       "      <th>Actual Related</th>\n",
       "      <td>206</td>\n",
       "      <td>23</td>\n",
       "    </tr>\n",
       "    <tr>\n",
       "      <th>Actual Irrelated</th>\n",
       "      <td>12</td>\n",
       "      <td>37</td>\n",
       "    </tr>\n",
       "  </tbody>\n",
       "</table>\n",
       "</div>"
      ],
      "text/plain": [
       "                  Predicted Related (Ajusted)  Predicted Irrelated(Ajusted)\n",
       "Actual Related                            206                            23\n",
       "Actual Irrelated                           12                            37"
      ]
     },
     "execution_count": 48,
     "metadata": {},
     "output_type": "execute_result"
    }
   ],
   "source": [
    "# Generating a confusion matrix on the test results based on linear kernal\n",
    "\n",
    "metrics.confusion_matrix_dataframe(y_test, \n",
    "                                   cvec_linear_svc_preds_test_new,\n",
    "                                   columns = [\"Predicted Related (Ajusted)\", \"Predicted Irrelated(Ajusted)\"],\n",
    "                                   index   = [\"Actual Related\", \"Actual Irrelated\"])"
   ]
  },
  {
   "cell_type": "code",
   "execution_count": 49,
   "metadata": {},
   "outputs": [],
   "source": [
    "summary_linear_test = metrics.binary_classification_summary(y_test, cvec_linear_svc_preds_test,cvec_linear_svc_score_test,'summary_linear_test')"
   ]
  },
  {
   "cell_type": "code",
   "execution_count": 50,
   "metadata": {},
   "outputs": [],
   "source": [
    "summary_linear_test_new = metrics.binary_classification_summary(y_test, cvec_linear_svc_preds_test_new,cvec_linear_svc_score_test,'summary_linear_test_adjusted')"
   ]
  },
  {
   "cell_type": "code",
   "execution_count": 51,
   "metadata": {},
   "outputs": [
    {
     "data": {
      "text/html": [
       "<table style=\"display:inline\" border=\"1\" class=\"dataframe\">\n",
       "  <thead>\n",
       "    <tr style=\"text-align: right;\">\n",
       "      <th></th>\n",
       "      <th>summary_linear_test</th>\n",
       "    </tr>\n",
       "  </thead>\n",
       "  <tbody>\n",
       "    <tr>\n",
       "      <th>Accuracy</th>\n",
       "      <td>0.874101</td>\n",
       "    </tr>\n",
       "    <tr>\n",
       "      <th>Sensitivity</th>\n",
       "      <td>0.836735</td>\n",
       "    </tr>\n",
       "    <tr>\n",
       "      <th>Specificity</th>\n",
       "      <td>0.882096</td>\n",
       "    </tr>\n",
       "    <tr>\n",
       "      <th>AUROC</th>\n",
       "      <td>0.922467</td>\n",
       "    </tr>\n",
       "    <tr>\n",
       "      <th>Matthews Corr. Coef.</th>\n",
       "      <td>0.637204</td>\n",
       "    </tr>\n",
       "  </tbody>\n",
       "</table style=\"display:inline\"><table style=\"display:inline\" border=\"1\" class=\"dataframe\">\n",
       "  <thead>\n",
       "    <tr style=\"text-align: right;\">\n",
       "      <th></th>\n",
       "      <th>summary_linear_test_adjusted</th>\n",
       "    </tr>\n",
       "  </thead>\n",
       "  <tbody>\n",
       "    <tr>\n",
       "      <th>Accuracy</th>\n",
       "      <td>0.874101</td>\n",
       "    </tr>\n",
       "    <tr>\n",
       "      <th>Sensitivity</th>\n",
       "      <td>0.755102</td>\n",
       "    </tr>\n",
       "    <tr>\n",
       "      <th>Specificity</th>\n",
       "      <td>0.899563</td>\n",
       "    </tr>\n",
       "    <tr>\n",
       "      <th>AUROC</th>\n",
       "      <td>0.922467</td>\n",
       "    </tr>\n",
       "    <tr>\n",
       "      <th>Matthews Corr. Coef.</th>\n",
       "      <td>0.606361</td>\n",
       "    </tr>\n",
       "  </tbody>\n",
       "</table style=\"display:inline\">"
      ]
     },
     "metadata": {},
     "output_type": "display_data"
    }
   ],
   "source": [
    "display_side_by_side(summary_linear_test,summary_linear_test_new)"
   ]
  },
  {
   "cell_type": "code",
   "execution_count": null,
   "metadata": {},
   "outputs": [],
   "source": []
  },
  {
   "cell_type": "markdown",
   "metadata": {},
   "source": [
    "#### rbf Kernel"
   ]
  },
  {
   "cell_type": "code",
   "execution_count": 52,
   "metadata": {},
   "outputs": [],
   "source": [
    "# Generating test predictions based on linear kernel\n",
    "\n",
    "cvec_rbf_svc_preds_test       = cvec_rbf_svc_gs.predict(X_test)\n",
    "\n",
    "cvec_rbf_svc_score_test       = cvec_rbf_svc_gs.decision_function(X_test)\n",
    "\n"
   ]
  },
  {
   "cell_type": "code",
   "execution_count": 53,
   "metadata": {},
   "outputs": [
    {
     "name": "stdout",
     "output_type": "stream",
     "text": [
      "Best Threshold=-0.338643, F-score=0.739\n"
     ]
    },
    {
     "data": {
      "text/plain": [
       "-0.33864348334281735"
      ]
     },
     "execution_count": 53,
     "metadata": {},
     "output_type": "execute_result"
    },
    {
     "data": {
      "image/png": "[encoded data removed]",
      "text/plain": [
       "<Figure size 576x576 with 1 Axes>"
      ]
     },
     "metadata": {
      "needs_background": "light"
     },
     "output_type": "display_data"
    }
   ],
   "source": [
    "precision_rbf_test, recall_rbf_test, threshold_rbf_test = precision_recall_curve(y_test, cvec_rbf_svc_score_test)\n",
    "\n",
    "# use the same p, r, thresholds that were previously calculated\n",
    "plot_precision_recall_vs_threshold(precision_rbf_test, recall_rbf_test, threshold_rbf_test)"
   ]
  },
  {
   "cell_type": "code",
   "execution_count": 54,
   "metadata": {},
   "outputs": [],
   "source": [
    "cvec_rbf_svc_preds_test_new=adjusted_prediction(cvec_rbf_svc_score_test,adjusted_threshold_rbf)"
   ]
  },
  {
   "cell_type": "code",
   "execution_count": 55,
   "metadata": {},
   "outputs": [
    {
     "data": {
      "text/html": [
       "<div>\n",
       "<style scoped>\n",
       "    .dataframe tbody tr th:only-of-type {\n",
       "        vertical-align: middle;\n",
       "    }\n",
       "\n",
       "    .dataframe tbody tr th {\n",
       "        vertical-align: top;\n",
       "    }\n",
       "\n",
       "    .dataframe thead th {\n",
       "        text-align: right;\n",
       "    }\n",
       "</style>\n",
       "<table border=\"1\" class=\"dataframe\">\n",
       "  <thead>\n",
       "    <tr style=\"text-align: right;\">\n",
       "      <th></th>\n",
       "      <th>Predicted Related</th>\n",
       "      <th>Predicted Irrelated</th>\n",
       "    </tr>\n",
       "  </thead>\n",
       "  <tbody>\n",
       "    <tr>\n",
       "      <th>Actual Related</th>\n",
       "      <td>214</td>\n",
       "      <td>15</td>\n",
       "    </tr>\n",
       "    <tr>\n",
       "      <th>Actual Irrelated</th>\n",
       "      <td>14</td>\n",
       "      <td>35</td>\n",
       "    </tr>\n",
       "  </tbody>\n",
       "</table>\n",
       "</div>"
      ],
      "text/plain": [
       "                  Predicted Related  Predicted Irrelated\n",
       "Actual Related                  214                   15\n",
       "Actual Irrelated                 14                   35"
      ]
     },
     "execution_count": 55,
     "metadata": {},
     "output_type": "execute_result"
    }
   ],
   "source": [
    "# Generating a confusion matrix on the test results based on linear kernal\n",
    "\n",
    "metrics.confusion_matrix_dataframe(y_test, \n",
    "                                   cvec_rbf_svc_preds_test,\n",
    "                                   columns = [\"Predicted Related\", \"Predicted Irrelated\"],\n",
    "                                   index   = [\"Actual Related\", \"Actual Irrelated\"])"
   ]
  },
  {
   "cell_type": "code",
   "execution_count": 56,
   "metadata": {},
   "outputs": [
    {
     "data": {
      "text/html": [
       "<div>\n",
       "<style scoped>\n",
       "    .dataframe tbody tr th:only-of-type {\n",
       "        vertical-align: middle;\n",
       "    }\n",
       "\n",
       "    .dataframe tbody tr th {\n",
       "        vertical-align: top;\n",
       "    }\n",
       "\n",
       "    .dataframe thead th {\n",
       "        text-align: right;\n",
       "    }\n",
       "</style>\n",
       "<table border=\"1\" class=\"dataframe\">\n",
       "  <thead>\n",
       "    <tr style=\"text-align: right;\">\n",
       "      <th></th>\n",
       "      <th>Predicted Related (Ajusted)</th>\n",
       "      <th>Predicted Irrelated(Ajusted)</th>\n",
       "    </tr>\n",
       "  </thead>\n",
       "  <tbody>\n",
       "    <tr>\n",
       "      <th>Actual Related</th>\n",
       "      <td>223</td>\n",
       "      <td>6</td>\n",
       "    </tr>\n",
       "    <tr>\n",
       "      <th>Actual Irrelated</th>\n",
       "      <td>25</td>\n",
       "      <td>24</td>\n",
       "    </tr>\n",
       "  </tbody>\n",
       "</table>\n",
       "</div>"
      ],
      "text/plain": [
       "                  Predicted Related (Ajusted)  Predicted Irrelated(Ajusted)\n",
       "Actual Related                            223                             6\n",
       "Actual Irrelated                           25                            24"
      ]
     },
     "execution_count": 56,
     "metadata": {},
     "output_type": "execute_result"
    }
   ],
   "source": [
    "# Generating a confusion matrix on the test results based on linear kernal\n",
    "\n",
    "metrics.confusion_matrix_dataframe(y_test, \n",
    "                                   cvec_rbf_svc_preds_test_new,\n",
    "                                   columns = [\"Predicted Related (Ajusted)\", \"Predicted Irrelated(Ajusted)\"],\n",
    "                                   index   = [\"Actual Related\", \"Actual Irrelated\"])"
   ]
  },
  {
   "cell_type": "code",
   "execution_count": 57,
   "metadata": {},
   "outputs": [],
   "source": [
    "summary_rbf_test = metrics.binary_classification_summary(y_test, cvec_linear_svc_preds_test,cvec_linear_svc_score_test,'summary_rbf_test')"
   ]
  },
  {
   "cell_type": "code",
   "execution_count": 58,
   "metadata": {},
   "outputs": [],
   "source": [
    "summary_rbf_test_new = metrics.binary_classification_summary(y_test, cvec_linear_svc_preds_test_new,cvec_linear_svc_score_test,'summary_rbf_test_adjusted')"
   ]
  },
  {
   "cell_type": "code",
   "execution_count": 59,
   "metadata": {},
   "outputs": [
    {
     "data": {
      "text/html": [
       "<table style=\"display:inline\" border=\"1\" class=\"dataframe\">\n",
       "  <thead>\n",
       "    <tr style=\"text-align: right;\">\n",
       "      <th></th>\n",
       "      <th>summary_linear_test</th>\n",
       "    </tr>\n",
       "  </thead>\n",
       "  <tbody>\n",
       "    <tr>\n",
       "      <th>Accuracy</th>\n",
       "      <td>0.874101</td>\n",
       "    </tr>\n",
       "    <tr>\n",
       "      <th>Sensitivity</th>\n",
       "      <td>0.836735</td>\n",
       "    </tr>\n",
       "    <tr>\n",
       "      <th>Specificity</th>\n",
       "      <td>0.882096</td>\n",
       "    </tr>\n",
       "    <tr>\n",
       "      <th>AUROC</th>\n",
       "      <td>0.922467</td>\n",
       "    </tr>\n",
       "    <tr>\n",
       "      <th>Matthews Corr. Coef.</th>\n",
       "      <td>0.637204</td>\n",
       "    </tr>\n",
       "  </tbody>\n",
       "</table style=\"display:inline\"><table style=\"display:inline\" border=\"1\" class=\"dataframe\">\n",
       "  <thead>\n",
       "    <tr style=\"text-align: right;\">\n",
       "      <th></th>\n",
       "      <th>summary_linear_test_adjusted</th>\n",
       "    </tr>\n",
       "  </thead>\n",
       "  <tbody>\n",
       "    <tr>\n",
       "      <th>Accuracy</th>\n",
       "      <td>0.874101</td>\n",
       "    </tr>\n",
       "    <tr>\n",
       "      <th>Sensitivity</th>\n",
       "      <td>0.755102</td>\n",
       "    </tr>\n",
       "    <tr>\n",
       "      <th>Specificity</th>\n",
       "      <td>0.899563</td>\n",
       "    </tr>\n",
       "    <tr>\n",
       "      <th>AUROC</th>\n",
       "      <td>0.922467</td>\n",
       "    </tr>\n",
       "    <tr>\n",
       "      <th>Matthews Corr. Coef.</th>\n",
       "      <td>0.606361</td>\n",
       "    </tr>\n",
       "  </tbody>\n",
       "</table style=\"display:inline\"><table style=\"display:inline\" border=\"1\" class=\"dataframe\">\n",
       "  <thead>\n",
       "    <tr style=\"text-align: right;\">\n",
       "      <th></th>\n",
       "      <th>summary_rbf_test</th>\n",
       "    </tr>\n",
       "  </thead>\n",
       "  <tbody>\n",
       "    <tr>\n",
       "      <th>Accuracy</th>\n",
       "      <td>0.874101</td>\n",
       "    </tr>\n",
       "    <tr>\n",
       "      <th>Sensitivity</th>\n",
       "      <td>0.836735</td>\n",
       "    </tr>\n",
       "    <tr>\n",
       "      <th>Specificity</th>\n",
       "      <td>0.882096</td>\n",
       "    </tr>\n",
       "    <tr>\n",
       "      <th>AUROC</th>\n",
       "      <td>0.922467</td>\n",
       "    </tr>\n",
       "    <tr>\n",
       "      <th>Matthews Corr. Coef.</th>\n",
       "      <td>0.637204</td>\n",
       "    </tr>\n",
       "  </tbody>\n",
       "</table style=\"display:inline\"><table style=\"display:inline\" border=\"1\" class=\"dataframe\">\n",
       "  <thead>\n",
       "    <tr style=\"text-align: right;\">\n",
       "      <th></th>\n",
       "      <th>summary_rbf_test_adjusted</th>\n",
       "    </tr>\n",
       "  </thead>\n",
       "  <tbody>\n",
       "    <tr>\n",
       "      <th>Accuracy</th>\n",
       "      <td>0.874101</td>\n",
       "    </tr>\n",
       "    <tr>\n",
       "      <th>Sensitivity</th>\n",
       "      <td>0.755102</td>\n",
       "    </tr>\n",
       "    <tr>\n",
       "      <th>Specificity</th>\n",
       "      <td>0.899563</td>\n",
       "    </tr>\n",
       "    <tr>\n",
       "      <th>AUROC</th>\n",
       "      <td>0.922467</td>\n",
       "    </tr>\n",
       "    <tr>\n",
       "      <th>Matthews Corr. Coef.</th>\n",
       "      <td>0.606361</td>\n",
       "    </tr>\n",
       "  </tbody>\n",
       "</table style=\"display:inline\">"
      ]
     },
     "metadata": {},
     "output_type": "display_data"
    }
   ],
   "source": [
    "display_side_by_side(summary_linear_test,summary_linear_test_new,summary_rbf_test,summary_rbf_test_new)"
   ]
  },
  {
   "cell_type": "code",
   "execution_count": null,
   "metadata": {},
   "outputs": [],
   "source": []
  },
  {
   "cell_type": "code",
   "execution_count": null,
   "metadata": {},
   "outputs": [],
   "source": []
  },
  {
   "cell_type": "code",
   "execution_count": null,
   "metadata": {},
   "outputs": [],
   "source": []
  },
  {
   "cell_type": "markdown",
   "metadata": {},
   "source": [
    "**TFIDF Vectorizer**\n"
   ]
  },
  {
   "cell_type": "code",
   "execution_count": null,
   "metadata": {},
   "outputs": [],
   "source": [
    "# Setting up the pipeline\n",
    "\n",
    "tvec_svc_pipe = Pipeline([(\"tvec\", TfidfVectorizer()), \n",
    "                         (\"svc\", SVC())])\n",
    "\n",
    "# Setting TFIDF and pipe hyperparameters\n",
    "\"\"\"\n",
    "tvec_pipe_params = {\"tvec__max_features\": [250], \n",
    "                    \"tvec__ngram_range\" : [(1,2)], \n",
    "                    \"tvec__stop_words\"  : [stopwords],\n",
    "                    \"tvec__min_df\"      : [2],\n",
    "                    \"svc__C\"            : [2,2.5,3.5],\n",
    "                    \"svc__kernel\"       : [\"linear\",\"rbf\"],\n",
    "                    \"svc__gamma\"        : [0.5,0.75,1]}\n",
    "\n",
    "\n",
    "\n",
    "\"\"\"\n",
    "\n",
    "tvec_pipe_params = {\"tvec__max_features\": [250], \n",
    "                    \"tvec__ngram_range\" : [(1,2)], \n",
    "                    \"tvec__stop_words\"  : [stop_words],\n",
    "                    \"tvec__min_df\"      : [2],\n",
    "                    \"svc__C\"            : [2.14,2.15,2.16],\n",
    "                    \"svc__kernel\"       : [\"linear\"],\n",
    "                    \"svc__gamma\"        : ['scale'],\n",
    "                    \"svc__probability\"  : [True]}\n",
    "                    \n",
    "# Instantiating the grid search\n",
    "\n",
    "tvec_svc_gs = GridSearchCV(tvec_svc_pipe, \n",
    "                           param_grid = tvec_pipe_params, \n",
    "                           cv         = 10)\n",
    "\n",
    "\n",
    "# Fitting the model to the training data\n",
    "\n",
    "tvec_svc_gs.fit(X_train, y_train);\n",
    "\n",
    "# print best parameter after tuning \n",
    "print(tvec_svc_gs.best_params_) \n"
   ]
  },
  {
   "cell_type": "code",
   "execution_count": null,
   "metadata": {},
   "outputs": [],
   "source": [
    "# Generating training predictions\n",
    "\n",
    "tvec_svc_train_preds = tvec_svc_gs.predict(X_train)\n",
    "tvec_svc_train_score = tvec_svc_gs.decision_function(X_train)\n",
    "\n",
    "# Training metrics\n",
    "\n",
    "metrics.binary_classification_summary(y_train, tvec_svc_train_preds,tvec_svc_train_score)"
   ]
  },
  {
   "cell_type": "code",
   "execution_count": null,
   "metadata": {},
   "outputs": [],
   "source": [
    "# Generating test predictions\n",
    "\n",
    "tvec_svc_preds       = tvec_svc_gs.predict(X_test)\n",
    "\n",
    "tvec_svc_score       = tvec_svc_gs.decision_function(X_test)\n",
    "\n",
    "tvec_svc_proba       = tvec_svc_gs.predict_proba(X_test)[:,1]\n",
    "#tvec_svc_proba.shape\n",
    "\n",
    "# plot test roc_curve#1\n",
    "graphs.roc_curve(model_prob  = tvec_svc_gs,\n",
    "                 X_test      = X_test,\n",
    "                 y_test      = y_test,\n",
    "                 y_predicted = tvec_svc_preds,\n",
    "                 title       = \"ROC Curve For SVM\",\n",
    "                 dim         = (8,6))\n",
    "\n"
   ]
  },
  {
   "cell_type": "code",
   "execution_count": null,
   "metadata": {},
   "outputs": [],
   "source": [
    "# plot test roc_curve#2\n",
    "tpfprs,tptprs,tpthresholds = roc_curve(y_test, tvec_svc_proba)\n",
    "plt.plot(tpfprs,tptprs,color='darkorange')\n",
    "plt.plot([0,1],[0,1],color='darkblue')\n",
    "#print(roc_curve(y_test, tvec_svc_proba))"
   ]
  },
  {
   "cell_type": "code",
   "execution_count": null,
   "metadata": {},
   "outputs": [],
   "source": [
    "# plot test roc_curve#3\n",
    "tsfprs,tstprs,tsthresholds = roc_curve(y_test, tvec_svc_score)\n",
    "plt.plot(tsfprs,tstprs,color='darkorange')\n",
    "plt.plot([0,1],[0,1],color='darkblue')\n"
   ]
  },
  {
   "cell_type": "code",
   "execution_count": null,
   "metadata": {},
   "outputs": [],
   "source": [
    "# Test metrics\n",
    "\n",
    "AUROC = auc(tsfprs,tstprs)\n",
    "\n",
    "roc_auc=roc_auc_score(y_test, tvec_svc_score)\n",
    "\n",
    "roc_auc_prob=roc_auc_score(y_test, tvec_svc_proba)\n",
    "\n",
    "print('AUROC={} ; roc_auc= {} ; roc_auc_prob= {} '.format(AUROC,roc_auc, roc_auc_prob))\n",
    "\n",
    "# Test metrics\n",
    "metrics.binary_classification_summary(y_test, tvec_svc_preds,tvec_svc_score)"
   ]
  },
  {
   "cell_type": "code",
   "execution_count": null,
   "metadata": {},
   "outputs": [],
   "source": [
    "# Generating a confusion matrix on the test results\n",
    "\n",
    "metrics.confusion_matrix_dataframe(y_test, \n",
    "                                   tvec_svc_preds,\n",
    "                                   columns = [\"Predicted Irrelated\", \"Predicted Related\"],\n",
    "                                   index   = [\"Actual Irrelated\", \"Actual Related\"])"
   ]
  },
  {
   "cell_type": "markdown",
   "metadata": {},
   "source": [
    "## Evaluation"
   ]
  },
  {
   "cell_type": "code",
   "execution_count": null,
   "metadata": {},
   "outputs": [],
   "source": [
    "\n",
    "vec_accuracy          = [\n",
    "                          accuracy_score(y_test, cvec_svc_preds),\n",
    "                          accuracy_score(y_test, tvec_svc_preds)\n",
    "                        ]\n",
    "\n",
    "vec_specificity       = [\n",
    "                          metrics.specificity(y_test, cvec_svc_preds),\n",
    "                          metrics.specificity(y_test, tvec_svc_preds)\n",
    "                        ]\n",
    "\n",
    "vec_sensitivity       = [\n",
    "                          recall_score(y_test, cvec_svc_preds),\n",
    "                          recall_score(y_test, tvec_svc_preds)\n",
    "                        ]\n",
    "\n",
    "vec_rocauc_score      = [\n",
    "                          roc_auc_score(y_test, cvec_svc_score),\n",
    "                          roc_auc_score(y_test, tvec_svc_score)\n",
    "                        ]\n",
    "\n",
    "vec_matthews_corrcoef = [\n",
    "                         matthews_corrcoef(y_test, cvec_svc_preds),\n",
    "                        matthews_corrcoef(y_test, tvec_svc_preds)]"
   ]
  },
  {
   "cell_type": "code",
   "execution_count": null,
   "metadata": {},
   "outputs": [],
   "source": [
    "# Converting the lists into dataframes\n",
    "\n",
    "# A dataframe for the CVEC scores\n",
    "\n",
    "vec_scores = pd.DataFrame(data    = [vec_accuracy, vec_specificity, \n",
    "                                      vec_sensitivity, vec_rocauc_score, \n",
    "                                      vec_matthews_corrcoef],\n",
    "                           columns = [ \"CVEC\",\"TVEC\"],\n",
    "                           index   = [\"Accuracy\", \"Specificity\", \n",
    "                                      \"Sensitivity\", \"AUROC Score\", \n",
    "                                      \"Matthews Corr. Coef.\"])\n",
    "\n"
   ]
  },
  {
   "cell_type": "code",
   "execution_count": null,
   "metadata": {},
   "outputs": [],
   "source": [
    "# Displaying the two dataframes side by side\n",
    "\n",
    "display_side_by_side(vec_scores)\n",
    "\n",
    "# The first table is the CVEC scores\n",
    "# The second table is the TVEC scores"
   ]
  },
  {
   "cell_type": "code",
   "execution_count": null,
   "metadata": {},
   "outputs": [],
   "source": [
    "vec_predictions = pd.DataFrame([np.array(X_test),np.array(y_test), cvec_svc_preds, \n",
    "                                 tvec_svc_preds],\n",
    "                                index = [\"body\",\"Actual\",\"CVEC.\",\"TVEC\"]).T\n",
    "vec_predictions.to_csv(\"./Reddit Data/All/cvec_model_predictions_tuning.csv\")"
   ]
  },
  {
   "cell_type": "markdown",
   "metadata": {},
   "source": [
    "\tCVEC\tTVEC\n",
    "Accuracy\t0.888489\t0.874101\n",
    "Specificity\t0.571429\t0.448980\n",
    "Sensitivity\t0.956332\t0.965066\n",
    "AUROC Score\t0.763880\t0.707023\n",
    "Matthews Corr. Coef.\t0.585403\t0.508484"
   ]
  },
  {
   "cell_type": "markdown",
   "metadata": {},
   "source": [
    "## Save the model to disk\n"
   ]
  },
  {
   "cell_type": "code",
   "execution_count": null,
   "metadata": {},
   "outputs": [],
   "source": [
    "import pickle\n",
    "\n",
    "cvec_svc_gs_file = 'cvec_svc_gs.pkl'\n",
    "pickle.dump(cvec_svc_gs, open(cvec_svc_gs_file, 'wb'))"
   ]
  },
  {
   "cell_type": "code",
   "execution_count": null,
   "metadata": {},
   "outputs": [],
   "source": [
    "tvec_svc_gs_file = 'tvec_svc_gs.pkl'\n",
    "pickle.dump(tvec_svc_gs, open(tvec_svc_gs_file, 'wb'))"
   ]
  },
  {
   "cell_type": "markdown",
   "metadata": {},
   "source": [
    "## Use Prediction Model"
   ]
  },
  {
   "cell_type": "code",
   "execution_count": null,
   "metadata": {},
   "outputs": [],
   "source": [
    "# load the models from disk\n",
    "cvec_svc_gs_load = pickle.load(open(cvec_svc_gs_file, 'rb'))\n",
    "tvec_svc_gs_load = pickle.load(open(tvec_svc_gs_file, 'rb'))\n",
    "\n",
    "#load_cvec_svc_gs = pickle.load(cvec_svc_gs)\n",
    "#load_tvec_svc_gs = pickle.load(tvec_svc_gs)\n",
    "\n",
    "\n"
   ]
  },
  {
   "cell_type": "code",
   "execution_count": null,
   "metadata": {},
   "outputs": [],
   "source": [
    "def predict(dataframe):\n",
    "\n",
    "    pred_text= dataframe[\"lemmatized_text\"]\n",
    "    \n",
    "  \n",
    "    # For cvec models\n",
    "   \n",
    "    cvec_svc_preds_test = cvec_svc_gs_load.predict(pred_text) \n",
    "\n",
    "    # For tvec models\n",
    "    tvec_svc_preds_test = tvec_svc_gs_load.predict(pred_text) \n",
    "    \n",
    "    # For tvec models\n",
    "    vec_svc_preds_test = cvec_svc_preds_test+tvec_svc_preds_test\n",
    "       \n",
    "    vec_predictions = pd.DataFrame([np.array(pred_text),cvec_svc_preds_test, tvec_svc_preds_test,vec_svc_preds_test],index = [\"body\",\"cvec\", \"tvec\",\"all\"]).T\n",
    "    \n",
    "    # Saving the dataframes as csvs\n",
    "    vec_predictions.to_csv(\"./Reddit Data/All/Reddit Eczema_All_20201201_pred.csv\")"
   ]
  },
  {
   "cell_type": "code",
   "execution_count": null,
   "metadata": {},
   "outputs": [],
   "source": [
    "test_data= pd.read_csv('./Reddit Data/All/Reddit Eczema_All_20201201.csv', encoding=\"iso-8859-1\" )\n",
    "\n",
    "test_data = cleaning_data(test_data)\n",
    "\n",
    "test_data.head()"
   ]
  },
  {
   "cell_type": "code",
   "execution_count": null,
   "metadata": {},
   "outputs": [],
   "source": [
    "predict(test_data)\n"
   ]
  },
  {
   "cell_type": "raw",
   "metadata": {},
   "source": [
    "REF: https://www.kdnuggets.com/2019/09/reddit-post-classification.html"
   ]
  }
 ],
 "metadata": {
  "kernelspec": {
   "display_name": "Python 3",
   "language": "python",
   "name": "python3"
  },
  "language_info": {
   "codemirror_mode": {
    "name": "ipython",
    "version": 3
   },
   "file_extension": ".py",
   "mimetype": "text/x-python",
   "name": "python",
   "nbconvert_exporter": "python",
   "pygments_lexer": "ipython3",
   "version": "3.8.5"
  }
 },
 "nbformat": 4,
 "nbformat_minor": 4
}
